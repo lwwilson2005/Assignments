{
 "cells": [
  {
   "cell_type": "markdown",
   "metadata": {},
   "source": [
    "## Analysis\n",
    "### \n",
    "1. Urban areas have a significantly larger percentage of drivers per city type.\n",
    "2. Suburban area have a higher average fare revenue (by percentage).\n",
    "3. Rural areas produce a higher average fare revenue than urban areas"
   ]
  },
  {
   "cell_type": "code",
   "execution_count": 1,
   "metadata": {
    "collapsed": true
   },
   "outputs": [],
   "source": [
    "# Dependencies\n",
    "import matplotlib.pyplot as plt\n",
    "import numpy as np\n",
    "import pandas as pd\n",
    "import os\n",
    "import csv\n",
    "import seaborn as sns"
   ]
  },
  {
   "cell_type": "code",
   "execution_count": 2,
   "metadata": {
    "collapsed": true
   },
   "outputs": [],
   "source": [
    "#Using Pandas to Chart a DataFrame\n",
    "f1_name = os.path.join('ride_data.csv')\n",
    "ride_df = pd.read_csv(f1_name)\n",
    "#ride_df"
   ]
  },
  {
   "cell_type": "code",
   "execution_count": 3,
   "metadata": {
    "collapsed": true
   },
   "outputs": [],
   "source": [
    "f2_name = os.path.join('city_data.csv')\n",
    "city_df = pd.read_csv(f2_name)\n",
    "#city_df"
   ]
  },
  {
   "cell_type": "code",
   "execution_count": 4,
   "metadata": {},
   "outputs": [
    {
     "data": {
      "text/html": [
       "<div>\n",
       "<style>\n",
       "    .dataframe thead tr:only-child th {\n",
       "        text-align: right;\n",
       "    }\n",
       "\n",
       "    .dataframe thead th {\n",
       "        text-align: left;\n",
       "    }\n",
       "\n",
       "    .dataframe tbody tr th {\n",
       "        vertical-align: top;\n",
       "    }\n",
       "</style>\n",
       "<table border=\"1\" class=\"dataframe\">\n",
       "  <thead>\n",
       "    <tr style=\"text-align: right;\">\n",
       "      <th></th>\n",
       "      <th>city</th>\n",
       "      <th>date</th>\n",
       "      <th>fare</th>\n",
       "      <th>ride_id</th>\n",
       "      <th>driver_count</th>\n",
       "      <th>type</th>\n",
       "    </tr>\n",
       "  </thead>\n",
       "  <tbody>\n",
       "    <tr>\n",
       "      <th>0</th>\n",
       "      <td>Sarabury</td>\n",
       "      <td>2016-01-16 13:49:27</td>\n",
       "      <td>38.35</td>\n",
       "      <td>5403689035038</td>\n",
       "      <td>46</td>\n",
       "      <td>Urban</td>\n",
       "    </tr>\n",
       "    <tr>\n",
       "      <th>1</th>\n",
       "      <td>Sarabury</td>\n",
       "      <td>2016-07-23 07:42:44</td>\n",
       "      <td>21.76</td>\n",
       "      <td>7546681945283</td>\n",
       "      <td>46</td>\n",
       "      <td>Urban</td>\n",
       "    </tr>\n",
       "    <tr>\n",
       "      <th>2</th>\n",
       "      <td>Sarabury</td>\n",
       "      <td>2016-04-02 04:32:25</td>\n",
       "      <td>38.03</td>\n",
       "      <td>4932495851866</td>\n",
       "      <td>46</td>\n",
       "      <td>Urban</td>\n",
       "    </tr>\n",
       "    <tr>\n",
       "      <th>3</th>\n",
       "      <td>Sarabury</td>\n",
       "      <td>2016-06-23 05:03:41</td>\n",
       "      <td>26.82</td>\n",
       "      <td>6711035373406</td>\n",
       "      <td>46</td>\n",
       "      <td>Urban</td>\n",
       "    </tr>\n",
       "    <tr>\n",
       "      <th>4</th>\n",
       "      <td>Sarabury</td>\n",
       "      <td>2016-09-30 12:48:34</td>\n",
       "      <td>30.30</td>\n",
       "      <td>6388737278232</td>\n",
       "      <td>46</td>\n",
       "      <td>Urban</td>\n",
       "    </tr>\n",
       "  </tbody>\n",
       "</table>\n",
       "</div>"
      ],
      "text/plain": [
       "       city                 date   fare        ride_id  driver_count   type\n",
       "0  Sarabury  2016-01-16 13:49:27  38.35  5403689035038            46  Urban\n",
       "1  Sarabury  2016-07-23 07:42:44  21.76  7546681945283            46  Urban\n",
       "2  Sarabury  2016-04-02 04:32:25  38.03  4932495851866            46  Urban\n",
       "3  Sarabury  2016-06-23 05:03:41  26.82  6711035373406            46  Urban\n",
       "4  Sarabury  2016-09-30 12:48:34  30.30  6388737278232            46  Urban"
      ]
     },
     "execution_count": 4,
     "metadata": {},
     "output_type": "execute_result"
    }
   ],
   "source": [
    "pyberDB_df = pd.merge(ride_df,city_df,how='inner', left_on='city',right_on='city')\n",
    "pyberDB_df.head()"
   ]
  },
  {
   "cell_type": "code",
   "execution_count": 5,
   "metadata": {},
   "outputs": [
    {
     "data": {
      "text/html": [
       "<div>\n",
       "<style>\n",
       "    .dataframe thead tr:only-child th {\n",
       "        text-align: right;\n",
       "    }\n",
       "\n",
       "    .dataframe thead th {\n",
       "        text-align: left;\n",
       "    }\n",
       "\n",
       "    .dataframe tbody tr th {\n",
       "        vertical-align: top;\n",
       "    }\n",
       "</style>\n",
       "<table border=\"1\" class=\"dataframe\">\n",
       "  <thead>\n",
       "    <tr style=\"text-align: right;\">\n",
       "      <th></th>\n",
       "      <th></th>\n",
       "      <th>driver_count</th>\n",
       "    </tr>\n",
       "    <tr>\n",
       "      <th>city</th>\n",
       "      <th>type</th>\n",
       "      <th></th>\n",
       "    </tr>\n",
       "  </thead>\n",
       "  <tbody>\n",
       "    <tr>\n",
       "      <th>Alvarezhaven</th>\n",
       "      <th>Urban</th>\n",
       "      <td>31</td>\n",
       "    </tr>\n",
       "    <tr>\n",
       "      <th>Alyssaberg</th>\n",
       "      <th>Urban</th>\n",
       "      <td>26</td>\n",
       "    </tr>\n",
       "  </tbody>\n",
       "</table>\n",
       "</div>"
      ],
      "text/plain": [
       "                    driver_count\n",
       "city         type               \n",
       "Alvarezhaven Urban            31\n",
       "Alyssaberg   Urban            26"
      ]
     },
     "execution_count": 5,
     "metadata": {},
     "output_type": "execute_result"
    }
   ],
   "source": [
    "pyber1_df=pyberDB_df.copy()\n",
    "\n",
    "pb_cityfare = pyber1_df.groupby('city')[['fare']].mean()\n",
    "pb_cityfare['farecount'] = pyber1_df.groupby('city')[['fare']].count()\n",
    "pytemp4 = pyber1_df.groupby(['city','type'])[['driver_count']].count()\n",
    "#pbcitytype = pyber1_df.groupby('city')[['type']]\n",
    "pb_citydriver = pyber1_df.groupby('city')[['driver_count']].count()\n",
    "\n",
    "\n",
    "pbcf = []\n",
    "pbcf = pb_cityfare['fare']\n",
    "pbcd = []\n",
    "pbcd = pb_citydriver['driver_count']\n",
    "\n",
    "pbbubble = pytemp4\n",
    "\n",
    "\n",
    "pbbubble.head(2)\n"
   ]
  },
  {
   "cell_type": "code",
   "execution_count": 6,
   "metadata": {
    "collapsed": true
   },
   "outputs": [],
   "source": [
    "\n",
    "pbdriver = pd.DataFrame(pyber1_df, columns= ['city', 'driver_count'])\n",
    "pbdriver2 = pbdriver.drop_duplicates(['city'], inplace=True)\n",
    "pbdriver2"
   ]
  },
  {
   "cell_type": "code",
   "execution_count": null,
   "metadata": {
    "collapsed": true
   },
   "outputs": [],
   "source": []
  },
  {
   "cell_type": "code",
   "execution_count": null,
   "metadata": {
    "collapsed": true
   },
   "outputs": [],
   "source": [
    "\n"
   ]
  },
  {
   "cell_type": "code",
   "execution_count": 7,
   "metadata": {},
   "outputs": [
    {
     "name": "stdout",
     "output_type": "stream",
     "text": [
      "driver_count    1\n",
      "dtype: int64 driver_count    64\n",
      "dtype: int64\n"
     ]
    }
   ],
   "source": [
    "\n",
    "print(pb_citydriver.min(),pb_citydriver.max())\n"
   ]
  },
  {
   "cell_type": "code",
   "execution_count": null,
   "metadata": {
    "collapsed": true
   },
   "outputs": [],
   "source": []
  },
  {
   "cell_type": "code",
   "execution_count": 8,
   "metadata": {
    "collapsed": true
   },
   "outputs": [],
   "source": [
    "import seaborn as sns\n",
    "\n",
    "plt.scatter(pb_cityfare.farecount, pb_cityfare.fare,\n",
    "            c=pb_cityfare.farecount, edgecolor='black',facecolors='red',\n",
    "            s=pbbubble.driver_count*4, alpha = 0.5)\n",
    "#make c= the city type\n",
    "#plt.colorbar()\n",
    "\n",
    "#plt.colorbar()\n",
    "plt.xlabel('Total Number of Rides (Per City)')\n",
    "plt.ylabel('Average Fare ($)')\n",
    "plt.title('Pyber Ride Sharing Data (2016)')\n",
    "plt.figure(figsize=(100,20))\n",
    "plt.legend(loc=1, ncol=2)\n",
    "plt.grid(True)\n",
    "\n",
    "\n",
    "\n",
    "#plt.show()"
   ]
  },
  {
   "cell_type": "code",
   "execution_count": 9,
   "metadata": {
    "collapsed": true
   },
   "outputs": [],
   "source": [
    "\n",
    "urban_df = pyber1_df[pyber1_df['type']=='Urban']\n",
    "#urban_df['farecount']=urban_df['city'].count()\n",
    "urban_1 = urban_df.groupby('city')[['fare']].mean()\n",
    "urban_2 = urban_df.groupby('city')[['fare']].count()\n",
    "urban_2=urban_2.rename(columns={'fare':'farecount'})\n",
    "urban_df=urban_df.drop_duplicates(['city'])\n",
    "\n",
    "urban_3 = urban_df[['city','driver_count']]\n",
    "urban_3=urban_3.reset_index(drop=True)\n",
    "#urban_df = urban_df.set_index(['city'], inplace=False)\n",
    "urban_3 = urban_3.set_index(['city'], inplace=False)\n",
    "u1=[]\n",
    "u2=[]\n",
    "u3=[]\n",
    "u1 = urban_1['fare']\n",
    "u2 = urban_2['farecount']\n",
    "u3 = urban_3['driver_count']\n",
    "urban_rp = pd.DataFrame({'avgfare':u1, 'farecount':u2, 'drivercount':u3})\n",
    "\n",
    "\n",
    "#urban_rp"
   ]
  },
  {
   "cell_type": "code",
   "execution_count": 10,
   "metadata": {
    "collapsed": true
   },
   "outputs": [],
   "source": [
    "suburban_df = pyber1_df[pyber1_df['type']=='Suburban']\n",
    "\n",
    "#suburban_df['avgfare']=suburban_df['fare'].mean()\n",
    "#suburban_df['farecount']=suburban_df['fare'].count()\n",
    "#suburban_df.head()\n",
    "suburban_1 = suburban_df.groupby('city')[['fare']].mean()\n",
    "suburban_2 = suburban_df.groupby('city')[['fare']].count()\n",
    "suburban_2=suburban_2.rename(columns={'fare':'farecount'})\n",
    "suburban_df=suburban_df.drop_duplicates(['city'])\n",
    "\n",
    "suburban_3 = suburban_df[['city','driver_count']]\n",
    "suburban_3=suburban_3.reset_index(drop=True)\n",
    "#urban_df = urban_df.set_index(['city'], inplace=False)\n",
    "suburban_3 = suburban_3.set_index(['city'], inplace=False)\n",
    "su1=[]\n",
    "su2=[]\n",
    "su3=[]\n",
    "su1 = suburban_1['fare']\n",
    "su2 = suburban_2['farecount']\n",
    "su3 = suburban_3['driver_count']\n",
    "suburban_rp = pd.DataFrame({'avgfare':su1, 'farecount':su2, 'drivercount':su3})\n",
    "#suburban_rp"
   ]
  },
  {
   "cell_type": "code",
   "execution_count": 11,
   "metadata": {
    "collapsed": true
   },
   "outputs": [],
   "source": [
    "\n",
    "rural_df = pyber1_df[pyber1_df['type']=='Rural']\n",
    "\n",
    "#rural_df['avgfare']=rural_df['fare'].mean()\n",
    "#rural_df['farecount']=rural_df['fare'].count()\n",
    "#rural_df.head()\n",
    "\n",
    "rural_1 = rural_df.groupby('city')[['fare']].mean()\n",
    "rural_2 = rural_df.groupby('city')[['fare']].count()\n",
    "rural_2=rural_2.rename(columns={'fare':'farecount'})\n",
    "rural_df=rural_df.drop_duplicates(['city'])\n",
    "\n",
    "rural_3 = rural_df[['city','driver_count']]\n",
    "rural_3=rural_3.reset_index(drop=True)\n",
    "#urban_df = urban_df.set_index(['city'], inplace=False)\n",
    "rural_3 = rural_3.set_index(['city'], inplace=False)\n",
    "r1=[]\n",
    "r2=[]\n",
    "r3=[]\n",
    "r1 = rural_1['fare']\n",
    "r2 = rural_2['farecount']\n",
    "r3 = rural_3['driver_count']\n",
    "rural_rp = pd.DataFrame({'avgfare':r1, 'farecount':r2, 'drivercount':r3})\n",
    "#rural_rp"
   ]
  },
  {
   "cell_type": "code",
   "execution_count": null,
   "metadata": {
    "collapsed": true
   },
   "outputs": [],
   "source": []
  },
  {
   "cell_type": "code",
   "execution_count": 21,
   "metadata": {},
   "outputs": [
    {
     "data": {
      "image/png": "[encoded data removed]",
      "text/plain": [
       "<matplotlib.figure.Figure at 0x13eb5bc5978>"
      ]
     },
     "metadata": {},
     "output_type": "display_data"
    }
   ],
   "source": [
    "#import matplotlib.patches as mpatches\n",
    "\n",
    "#lgd = ['Rural','Suburban','Urban']\n",
    "#colors = ['lightskyblue','gold','coral']\n",
    "#sc = mpatches.Patch(color=colors, label=lgd)\n",
    "plt.scatter(urban_rp.farecount, urban_rp.avgfare,\n",
    "            c='coral', edgecolor='black',facecolors='coral',\n",
    "            s=urban_rp.drivercount*4, alpha = 0.5, label='Urban')\n",
    "\n",
    "plt.scatter(suburban_rp.farecount, suburban_rp.avgfare,\n",
    "            c='gold', edgecolor='black',facecolors='gold',\n",
    "            s=suburban_rp.drivercount*4, alpha = 0.5, label='Suburban')\n",
    "\n",
    "plt.scatter(rural_rp.farecount, rural_rp.avgfare,\n",
    "            c='lightskyblue', edgecolor='black',facecolors='lightskyblue',\n",
    "            s=rural_rp.drivercount*4, alpha = 0.5, label='Rural')\n",
    "#make c= the city type\n",
    "#plt.colorbar()\n",
    "\n",
    "#plt.colorbar()\n",
    "plt.xlabel('Total Number of Rides (Per City)')\n",
    "plt.ylabel('Average Fare ($)')\n",
    "plt.title('Pyber Ride Sharing Data (2016)')\n",
    "plt.xlim(0,50,10)\n",
    "#plt.legend(handles=[sc])\n",
    "plt.legend(loc=1, ncol=1)\n",
    "plt.grid(True)\n",
    "\n",
    "\n",
    "\n",
    "plt.show()"
   ]
  },
  {
   "cell_type": "code",
   "execution_count": 13,
   "metadata": {
    "collapsed": true
   },
   "outputs": [],
   "source": [
    "#sns.lmplot(x='farecount',y='fare_data', data = pb_cityfare)"
   ]
  },
  {
   "cell_type": "code",
   "execution_count": 14,
   "metadata": {},
   "outputs": [
    {
     "data": {
      "text/html": [
       "<div>\n",
       "<style>\n",
       "    .dataframe thead tr:only-child th {\n",
       "        text-align: right;\n",
       "    }\n",
       "\n",
       "    .dataframe thead th {\n",
       "        text-align: left;\n",
       "    }\n",
       "\n",
       "    .dataframe tbody tr th {\n",
       "        vertical-align: top;\n",
       "    }\n",
       "</style>\n",
       "<table border=\"1\" class=\"dataframe\">\n",
       "  <thead>\n",
       "    <tr style=\"text-align: right;\">\n",
       "      <th></th>\n",
       "      <th>fare</th>\n",
       "      <th>total</th>\n",
       "      <th>typepct</th>\n",
       "    </tr>\n",
       "    <tr>\n",
       "      <th>type</th>\n",
       "      <th></th>\n",
       "      <th></th>\n",
       "      <th></th>\n",
       "    </tr>\n",
       "  </thead>\n",
       "  <tbody>\n",
       "    <tr>\n",
       "      <th>Rural</th>\n",
       "      <td>4255.09</td>\n",
       "      <td>64669.12</td>\n",
       "      <td>6.579786</td>\n",
       "    </tr>\n",
       "    <tr>\n",
       "      <th>Suburban</th>\n",
       "      <td>20335.69</td>\n",
       "      <td>64669.12</td>\n",
       "      <td>31.445750</td>\n",
       "    </tr>\n",
       "    <tr>\n",
       "      <th>Urban</th>\n",
       "      <td>40078.34</td>\n",
       "      <td>64669.12</td>\n",
       "      <td>61.974463</td>\n",
       "    </tr>\n",
       "  </tbody>\n",
       "</table>\n",
       "</div>"
      ],
      "text/plain": [
       "              fare     total    typepct\n",
       "type                                   \n",
       "Rural      4255.09  64669.12   6.579786\n",
       "Suburban  20335.69  64669.12  31.445750\n",
       "Urban     40078.34  64669.12  61.974463"
      ]
     },
     "execution_count": 14,
     "metadata": {},
     "output_type": "execute_result"
    }
   ],
   "source": [
    "\n",
    "#Total Fares by City Type\n",
    "pb_cityridetype = pyber1_df.groupby(['type'])[['fare']].sum()\n",
    "pb_cityridetype['total'] = pyber1_df['fare'].sum()\n",
    "pb_cityridetype['typepct'] = pb_cityridetype['fare']/pb_cityridetype['total']*100\n",
    "pb_cityridetype\n"
   ]
  },
  {
   "cell_type": "code",
   "execution_count": 15,
   "metadata": {},
   "outputs": [
    {
     "data": {
      "image/png": "[encoded data removed]",
      "text/plain": [
       "<matplotlib.figure.Figure at 0x13eb5a88780>"
      ]
     },
     "metadata": {},
     "output_type": "display_data"
    }
   ],
   "source": [
    "pyb = pd.DataFrame(pb_cityridetype)\n",
    "#pyb.set_index('type', inplace=True)\n",
    "pyb1 = []\n",
    "pyb2 = []\n",
    "cols = ['gold','lightskyblue','coral']\n",
    "pyb.head()\n",
    "i = 0\n",
    "for index, row in pyb.iterrows():\n",
    "    pyb1.append(index)\n",
    "    pyb2.append(row['typepct'])\n",
    "    \n",
    "    i +=1\n",
    "    \n",
    "\n",
    "plt.pie(pyb2,\n",
    "        labels=pyb1,\n",
    "        colors=cols,\n",
    "        startangle=135,\n",
    "        explode=(0,0,0.2),\n",
    "        shadow=True,\n",
    "        radius=0.9,\n",
    "        autopct='%1.1f%%'\n",
    "       )\n",
    "\n",
    "\n",
    "plt.title('% of Total Fares by City Type')\n",
    "\n",
    "plt.show()"
   ]
  },
  {
   "cell_type": "code",
   "execution_count": 16,
   "metadata": {},
   "outputs": [
    {
     "data": {
      "text/html": [
       "<div>\n",
       "<style>\n",
       "    .dataframe thead tr:only-child th {\n",
       "        text-align: right;\n",
       "    }\n",
       "\n",
       "    .dataframe thead th {\n",
       "        text-align: left;\n",
       "    }\n",
       "\n",
       "    .dataframe tbody tr th {\n",
       "        vertical-align: top;\n",
       "    }\n",
       "</style>\n",
       "<table border=\"1\" class=\"dataframe\">\n",
       "  <thead>\n",
       "    <tr style=\"text-align: right;\">\n",
       "      <th></th>\n",
       "      <th>fare</th>\n",
       "      <th>totalcount</th>\n",
       "      <th>ridepct</th>\n",
       "    </tr>\n",
       "    <tr>\n",
       "      <th>type</th>\n",
       "      <th></th>\n",
       "      <th></th>\n",
       "      <th></th>\n",
       "    </tr>\n",
       "  </thead>\n",
       "  <tbody>\n",
       "    <tr>\n",
       "      <th>Rural</th>\n",
       "      <td>125</td>\n",
       "      <td>2407</td>\n",
       "      <td>5.193187</td>\n",
       "    </tr>\n",
       "    <tr>\n",
       "      <th>Suburban</th>\n",
       "      <td>657</td>\n",
       "      <td>2407</td>\n",
       "      <td>27.295388</td>\n",
       "    </tr>\n",
       "    <tr>\n",
       "      <th>Urban</th>\n",
       "      <td>1625</td>\n",
       "      <td>2407</td>\n",
       "      <td>67.511425</td>\n",
       "    </tr>\n",
       "  </tbody>\n",
       "</table>\n",
       "</div>"
      ],
      "text/plain": [
       "          fare  totalcount    ridepct\n",
       "type                                 \n",
       "Rural      125        2407   5.193187\n",
       "Suburban   657        2407  27.295388\n",
       "Urban     1625        2407  67.511425"
      ]
     },
     "execution_count": 16,
     "metadata": {},
     "output_type": "execute_result"
    }
   ],
   "source": [
    "#Total Rides by City Type\n",
    "pb_cityridetype = pyber1_df.groupby(['type'])[['fare']].count()\n",
    "pb_cityridetype['totalcount'] = pyber1_df['fare'].count()\n",
    "pb_cityridetype['ridepct'] = pb_cityridetype['fare']/pb_cityridetype['totalcount']*100\n",
    "pb_cityridetype"
   ]
  },
  {
   "cell_type": "code",
   "execution_count": 17,
   "metadata": {},
   "outputs": [
    {
     "data": {
      "image/png": "[encoded data removed]",
      "text/plain": [
       "<matplotlib.figure.Figure at 0x13eb5993080>"
      ]
     },
     "metadata": {},
     "output_type": "display_data"
    }
   ],
   "source": [
    "pyb = pd.DataFrame(pb_cityridetype)\n",
    "#pyb.set_index('type', inplace=True)\n",
    "pyc1 = []\n",
    "pyc2 = []\n",
    "cols = ['gold','lightskyblue','coral']\n",
    "pyb.head()\n",
    "i = 0\n",
    "for index, row in pyb.iterrows():\n",
    "    pyc1.append(index)\n",
    "    pyc2.append(row['ridepct'])\n",
    "    i +=1\n",
    "    \n",
    "plt.pie(pyc2,\n",
    "        labels=pyc1,\n",
    "        colors=cols,\n",
    "        startangle=135,\n",
    "        explode=(0,0,0.2),\n",
    "        shadow=True,\n",
    "        autopct='%1.1f%%'\n",
    "       )\n",
    "\n",
    "plt.title('% of Total Rides by City Type')\n",
    "\n",
    "plt.show()"
   ]
  },
  {
   "cell_type": "code",
   "execution_count": 18,
   "metadata": {},
   "outputs": [
    {
     "data": {
      "text/html": [
       "<div>\n",
       "<style>\n",
       "    .dataframe thead tr:only-child th {\n",
       "        text-align: right;\n",
       "    }\n",
       "\n",
       "    .dataframe thead th {\n",
       "        text-align: left;\n",
       "    }\n",
       "\n",
       "    .dataframe tbody tr th {\n",
       "        vertical-align: top;\n",
       "    }\n",
       "</style>\n",
       "<table border=\"1\" class=\"dataframe\">\n",
       "  <thead>\n",
       "    <tr style=\"text-align: right;\">\n",
       "      <th></th>\n",
       "      <th>city</th>\n",
       "      <th>date</th>\n",
       "      <th>fare</th>\n",
       "      <th>ride_id</th>\n",
       "      <th>driver_count</th>\n",
       "      <th>type</th>\n",
       "    </tr>\n",
       "  </thead>\n",
       "  <tbody>\n",
       "    <tr>\n",
       "      <th>0</th>\n",
       "      <td>Sarabury</td>\n",
       "      <td>2016-01-16 13:49:27</td>\n",
       "      <td>38.35</td>\n",
       "      <td>5403689035038</td>\n",
       "      <td>46</td>\n",
       "      <td>Urban</td>\n",
       "    </tr>\n",
       "    <tr>\n",
       "      <th>27</th>\n",
       "      <td>South Roy</td>\n",
       "      <td>2016-01-02 18:42:34</td>\n",
       "      <td>17.49</td>\n",
       "      <td>4036272335942</td>\n",
       "      <td>35</td>\n",
       "      <td>Urban</td>\n",
       "    </tr>\n",
       "    <tr>\n",
       "      <th>49</th>\n",
       "      <td>Wiseborough</td>\n",
       "      <td>2016-01-21 17:35:29</td>\n",
       "      <td>44.18</td>\n",
       "      <td>3645042422587</td>\n",
       "      <td>55</td>\n",
       "      <td>Urban</td>\n",
       "    </tr>\n",
       "    <tr>\n",
       "      <th>68</th>\n",
       "      <td>Spencertown</td>\n",
       "      <td>2016-07-31 14:53:22</td>\n",
       "      <td>6.87</td>\n",
       "      <td>2242596575892</td>\n",
       "      <td>68</td>\n",
       "      <td>Urban</td>\n",
       "    </tr>\n",
       "    <tr>\n",
       "      <th>94</th>\n",
       "      <td>Nguyenbury</td>\n",
       "      <td>2016-07-09 04:42:44</td>\n",
       "      <td>6.28</td>\n",
       "      <td>1543057793673</td>\n",
       "      <td>8</td>\n",
       "      <td>Urban</td>\n",
       "    </tr>\n",
       "  </tbody>\n",
       "</table>\n",
       "</div>"
      ],
      "text/plain": [
       "           city                 date   fare        ride_id  driver_count  \\\n",
       "0      Sarabury  2016-01-16 13:49:27  38.35  5403689035038            46   \n",
       "27    South Roy  2016-01-02 18:42:34  17.49  4036272335942            35   \n",
       "49  Wiseborough  2016-01-21 17:35:29  44.18  3645042422587            55   \n",
       "68  Spencertown  2016-07-31 14:53:22   6.87  2242596575892            68   \n",
       "94   Nguyenbury  2016-07-09 04:42:44   6.28  1543057793673             8   \n",
       "\n",
       "     type  \n",
       "0   Urban  \n",
       "27  Urban  \n",
       "49  Urban  \n",
       "68  Urban  \n",
       "94  Urban  "
      ]
     },
     "execution_count": 18,
     "metadata": {},
     "output_type": "execute_result"
    }
   ],
   "source": [
    "pyber2_df=pyberDB_df.copy()\n",
    "pb3 = pyber2_df.drop_duplicates(['city','driver_count'])\n",
    "pb3.head()"
   ]
  },
  {
   "cell_type": "code",
   "execution_count": 19,
   "metadata": {},
   "outputs": [
    {
     "data": {
      "text/html": [
       "<div>\n",
       "<style>\n",
       "    .dataframe thead tr:only-child th {\n",
       "        text-align: right;\n",
       "    }\n",
       "\n",
       "    .dataframe thead th {\n",
       "        text-align: left;\n",
       "    }\n",
       "\n",
       "    .dataframe tbody tr th {\n",
       "        vertical-align: top;\n",
       "    }\n",
       "</style>\n",
       "<table border=\"1\" class=\"dataframe\">\n",
       "  <thead>\n",
       "    <tr style=\"text-align: right;\">\n",
       "      <th></th>\n",
       "      <th>driver_count</th>\n",
       "      <th>totaldcount</th>\n",
       "      <th>driverpct</th>\n",
       "    </tr>\n",
       "    <tr>\n",
       "      <th>type</th>\n",
       "      <th></th>\n",
       "      <th></th>\n",
       "      <th></th>\n",
       "    </tr>\n",
       "  </thead>\n",
       "  <tbody>\n",
       "    <tr>\n",
       "      <th>Rural</th>\n",
       "      <td>18</td>\n",
       "      <td>126</td>\n",
       "      <td>14.285714</td>\n",
       "    </tr>\n",
       "    <tr>\n",
       "      <th>Suburban</th>\n",
       "      <td>42</td>\n",
       "      <td>126</td>\n",
       "      <td>33.333333</td>\n",
       "    </tr>\n",
       "    <tr>\n",
       "      <th>Urban</th>\n",
       "      <td>66</td>\n",
       "      <td>126</td>\n",
       "      <td>52.380952</td>\n",
       "    </tr>\n",
       "  </tbody>\n",
       "</table>\n",
       "</div>"
      ],
      "text/plain": [
       "          driver_count  totaldcount  driverpct\n",
       "type                                          \n",
       "Rural               18          126  14.285714\n",
       "Suburban            42          126  33.333333\n",
       "Urban               66          126  52.380952"
      ]
     },
     "execution_count": 19,
     "metadata": {},
     "output_type": "execute_result"
    }
   ],
   "source": [
    "#Total Drivers by City Type\n",
    "\n",
    "pb_drivertype = pb3.groupby(['type'])[['driver_count']].count()\n",
    "pb_drivertype['totaldcount'] = pb3['driver_count'].count()\n",
    "pb_drivertype['driverpct'] = pb_drivertype['driver_count']/pb_drivertype['totaldcount']*100\n",
    "pb_drivertype"
   ]
  },
  {
   "cell_type": "code",
   "execution_count": 20,
   "metadata": {},
   "outputs": [
    {
     "data": {
      "image/png": "[encoded data removed]",
      "text/plain": [
       "<matplotlib.figure.Figure at 0x13eb5b7e748>"
      ]
     },
     "metadata": {},
     "output_type": "display_data"
    }
   ],
   "source": [
    "pyd = pd.DataFrame(pb_drivertype)\n",
    "#pyb.set_index('type', inplace=True)\n",
    "pyd1 = []\n",
    "pyd2 = []\n",
    "cols = ['gold','lightskyblue','coral']\n",
    "pyd.head()\n",
    "i = 0\n",
    "for index, row in pyd.iterrows():\n",
    "    pyd1.append(index)\n",
    "    pyd2.append(row['driverpct'])\n",
    "    i +=1\n",
    "    \n",
    "plt.pie(pyd2,\n",
    "        labels=pyd1,\n",
    "        colors=cols,\n",
    "        startangle=135,\n",
    "        explode=(0,0,0.2),\n",
    "        shadow=True,\n",
    "        autopct='%1.1f%%'\n",
    "       )\n",
    "\n",
    "plt.title('% of Total Drivers by City Type')\n",
    "\n",
    "plt.show()"
   ]
  },
  {
   "cell_type": "code",
   "execution_count": null,
   "metadata": {
    "collapsed": true
   },
   "outputs": [],
   "source": []
  }
 ],
 "metadata": {
  "kernelspec": {
   "display_name": "Python 3",
   "language": "python",
   "name": "python3"
  },
  "language_info": {
   "codemirror_mode": {
    "name": "ipython",
    "version": 3
   },
   "file_extension": ".py",
   "mimetype": "text/x-python",
   "name": "python",
   "nbconvert_exporter": "python",
   "pygments_lexer": "ipython3",
   "version": "3.6.3"
  }
 },
 "nbformat": 4,
 "nbformat_minor": 2
}
