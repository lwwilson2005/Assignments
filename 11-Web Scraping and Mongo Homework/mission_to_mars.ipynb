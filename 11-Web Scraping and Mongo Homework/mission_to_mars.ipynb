{
 "cells": [
  {
   "cell_type": "code",
   "execution_count": 1,
   "metadata": {
    "collapsed": true
   },
   "outputs": [],
   "source": [
    "import time\n",
    "from splinter import Browser\n",
    "from bs4 import BeautifulSoup\n",
    "from selenium import webdriver\n",
    "from sys import platform\n",
    "import pandas as pd"
   ]
  },
  {
   "cell_type": "code",
   "execution_count": 2,
   "metadata": {
    "collapsed": true
   },
   "outputs": [],
   "source": [
    "def init_browser():\n",
    "    if platform == \"darwin\":\n",
    "        executable_path = {\"executable_path\": \"/usr/local/bin/chromedriver\"}\n",
    "    else:\n",
    "        executable_path = {'executable_path': 'chromedriver.exe'}\n",
    "    return Browser(\"chrome\", **executable_path, headless=False)"
   ]
  },
  {
   "cell_type": "code",
   "execution_count": 3,
   "metadata": {
    "collapsed": true
   },
   "outputs": [],
   "source": [
    "browser = init_browser()\n",
    "# Create mars_data dictionary that we can insert into mongo\n",
    "mars_data = {}    \n",
    "\n",
    "# Grab featured image from jpl.nasa\n",
    "url = \"https://www.jpl.nasa.gov/spaceimages/?search=&category=Mars\"\n",
    "browser.visit(url)\n",
    "html = browser.html\n",
    "full_image_button = browser.find_by_xpath('//*[@id=\"full_image\"]')\n",
    "full_image_button.click()\n",
    "time.sleep(5)\n",
    "more_info_button = browser.find_by_xpath('//*[@id=\"fancybox-lock\"]/div/div[2]/div/div[1]/a[2]')\n",
    "more_info_button.click()\n",
    "time.sleep(5)\n",
    "full_res_jpg = browser.find_by_xpath('/html/body/div[1]/div/div[3]/section[1]/div/article/div[2]/aside[1]/ul/li[5]/div/p')\n",
    "browser.click_link_by_partial_text('jpg')\n",
    "time.sleep(5)\n",
    "browser.find_by_tag('img').click()\n",
    "\n",
    "html = browser.html\n",
    "try:\n",
    "    #create a soup object from the html\n",
    "    img_soup = BeautifulSoup(html, \"html.parser\")\n",
    "    featured_image_url = img_soup.find(\"img\")[\"src\"]\n",
    "except:\n",
    "    featured_image_url = \"\"\n",
    "\n",
    "# Add image to mars_data with a key of nasa_jpl\n",
    "mars_data[\"nasa_jpl\"] = featured_image_url\n"
   ]
  },
  {
   "cell_type": "code",
   "execution_count": 4,
   "metadata": {},
   "outputs": [],
   "source": [
    "# Use Splinter to visit nasa's news page\n",
    "url = \"https://mars.nasa.gov/news\"\n",
    "browser.visit(url)\n",
    "time.sleep(2)\n",
    "html = browser.html\n",
    "article_soup = BeautifulSoup(html, \"html.parser\")\n",
    "# Isolate latest article title\n",
    "\n",
    "latest_article = article_soup.find(class_ = \"content_title\").string\n",
    "try:\n",
    "    latest_article = article_soup.find(class_ = \"content_title\").string\n",
    "except:\n",
    "    latest_article = article_soup.find(class_ = \"content_title\").text\n",
    "# Add result to mars_data\n",
    "mars_data['article_title'] = latest_article\n",
    "\n",
    "# Isolate teaser text for latest article\n",
    "\n",
    "article_teaser = article_soup.find(class_ = \"article_teaser_body\").string\n",
    "try:\n",
    "    article_teaser = article_soup.find(class_ = \"article_teaser_body\").string\n",
    "except:\n",
    "    article_teaser = article_soup.find(class_ = \"article_teaser_body\").text\n",
    "# Add resuslt to mars_data\n",
    "mars_data['article_teaser'] = article_teaser\n"
   ]
  },
  {
   "cell_type": "code",
   "execution_count": 5,
   "metadata": {
    "collapsed": true
   },
   "outputs": [],
   "source": [
    "\n",
    "#     Create mars_data dictionary that we can insert into mongo\n",
    "#     mars_data = {}\n",
    "#     Use Splinter to visit Mars Weather's twitter page\n",
    "url = \"https://twitter.com/marswxreport?lang=en\"\n",
    "browser.visit(url)\n",
    "html = browser.html\n",
    "weather_soup = BeautifulSoup(html, \"html.parser\")\n",
    "\n",
    "# #     Isolate latest weather tweet\n",
    "mars_weather = weather_soup.find(class_ = \"TweetTextSize TweetTextSize--normal js-tweet-text tweet-text\").text\n",
    "# #     Add resuslts to mars_data dictionary\n",
    "mars_data['Weather'] = mars_weather\n"
   ]
  },
  {
   "cell_type": "code",
   "execution_count": 6,
   "metadata": {
    "collapsed": true
   },
   "outputs": [],
   "source": [
    "mars_table = pd.read_html('https://space-facts.com/mars/#facts')[0]\n",
    "mars_table.columns = [\"Fact\" , \"Value\"]"
   ]
  },
  {
   "cell_type": "code",
   "execution_count": 7,
   "metadata": {},
   "outputs": [],
   "source": [
    "mars_facts = mars_table.to_html(classes=[\"table-bordered\", \"table-striped\", \"table-hover\"], index = False)\n",
    "mars_data[\"mars_facts\"] = mars_facts"
   ]
  },
  {
   "cell_type": "code",
   "execution_count": 8,
   "metadata": {
    "collapsed": true
   },
   "outputs": [],
   "source": [
    "# Grab pictures of Hemispheres\n",
    "hemisphere_image_urls = []\n",
    "cerberus_dict = {}\n",
    "schiaparelli_dict = {}\n",
    "syrtis_major_dict = {}\n",
    "valles_marineris_dict = {}"
   ]
  },
  {
   "cell_type": "code",
   "execution_count": 9,
   "metadata": {},
   "outputs": [],
   "source": [
    "# Point browser to Cerberus\n",
    "\n",
    "url = \"https://astropedia.astrogeology.usgs.gov/download/Mars/Viking/cerberus_enhanced.tif/full.jpg\"\n",
    "browser.visit(url)\n",
    "time.sleep(2)\n",
    "html = browser.html\n",
    "try:\n",
    "    cerberus_soup = BeautifulSoup(html, \"html.parser\")\n",
    "    cerberus_hemi = cerberus_soup.find(\"img\")[\"src\"]\n",
    "except:\n",
    "    cerberus_hemi = \"\"\n",
    "cerberus_dict[\"img_url\"] = cerberus_hemi\n",
    "cerberus_dict[\"title\"] = \"Cerberus\"\n",
    "hemisphere_image_urls.append(cerberus_dict)\n"
   ]
  },
  {
   "cell_type": "code",
   "execution_count": 10,
   "metadata": {
    "collapsed": true
   },
   "outputs": [],
   "source": [
    "# Point browser to Schiaparelli\n",
    "\n",
    "url = \"https://astropedia.astrogeology.usgs.gov/download/Mars/Viking/schiaparelli_enhanced.tif/full.jpg\"\n",
    "browser.visit(url)\n",
    "time.sleep(2)\n",
    "html = browser.html\n",
    "try:\n",
    "    schiaparelli_soup = BeautifulSoup(html, \"html.parser\")\n",
    "    schiaparelli_hemi = schiaparelli_soup.find(\"img\")[\"src\"]\n",
    "except:\n",
    "    schiaparelli_hemi = \"\"\n",
    "schiaparelli_dict[\"img_url\"] = schiaparelli_hemi\n",
    "schiaparelli_dict[\"title\"] = \"Schiaparelli\"\n",
    "hemisphere_image_urls.append(schiaparelli_dict)\n"
   ]
  },
  {
   "cell_type": "code",
   "execution_count": 11,
   "metadata": {
    "collapsed": true
   },
   "outputs": [],
   "source": [
    "# Point browser to Syrtis Major\n",
    "\n",
    "url = \"https://astropedia.astrogeology.usgs.gov/download/Mars/Viking/syrtis_major_enhanced.tif/full.jpg\"\n",
    "browser.visit(url)\n",
    "time.sleep(2)\n",
    "html = browser.html\n",
    "try:\n",
    "    syrtis_major_soup = BeautifulSoup(html, \"html.parser\")\n",
    "    syrtis_major_hemi = syrtis_major_soup.find(\"img\")[\"src\"]\n",
    "except:\n",
    "    syrtis_major_hemi = \"\"\n",
    "syrtis_major_dict[\"img_url\"] = syrtis_major_hemi\n",
    "syrtis_major_dict[\"title\"] = \"Syrtis_Major\"\n",
    "hemisphere_image_urls.append(syrtis_major_dict)\n"
   ]
  },
  {
   "cell_type": "code",
   "execution_count": 12,
   "metadata": {
    "collapsed": true
   },
   "outputs": [],
   "source": [
    "# Point browser to Valles Marineris\n",
    "\n",
    "url = \"https://astropedia.astrogeology.usgs.gov/download/Mars/Viking/valles_marineris_enhanced.tif/full.jpg\"\n",
    "browser.visit(url)\n",
    "time.sleep(2)\n",
    "html = browser.html\n",
    "try:\n",
    "    valles_marineris_soup = BeautifulSoup(html, \"html.parser\")\n",
    "    valles_marineris_hemi = valles_marineris_soup.find(\"img\")[\"src\"]\n",
    "except:\n",
    "    valles_marineris_hemi = \"\"\n",
    "valles_marineris_dict[\"img_url\"] = valles_marineris_hemi\n",
    "valles_marineris_dict[\"title\"] = \"Valles_Marineris\"\n",
    "hemisphere_image_urls.append(valles_marineris_dict)\n"
   ]
  },
  {
   "cell_type": "code",
   "execution_count": 13,
   "metadata": {
    "collapsed": true
   },
   "outputs": [],
   "source": [
    "mars_data[\"mars_hemispheres\"] = hemisphere_image_urls"
   ]
  },
  {
   "cell_type": "code",
   "execution_count": 14,
   "metadata": {
    "collapsed": true
   },
   "outputs": [],
   "source": [
    "# Run after scraping\n",
    "browser.quit()"
   ]
  }
 ],
 "metadata": {
  "kernelspec": {
   "display_name": "Python 3",
   "language": "python",
   "name": "python3"
  },
  "language_info": {
   "codemirror_mode": {
    "name": "ipython",
    "version": 3
   },
   "file_extension": ".py",
   "mimetype": "text/x-python",
   "name": "python",
   "nbconvert_exporter": "python",
   "pygments_lexer": "ipython3",
   "version": "3.6.3"
  }
 },
 "nbformat": 4,
 "nbformat_minor": 2
}
