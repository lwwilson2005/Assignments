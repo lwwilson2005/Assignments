{
 "cells": [
  {
   "cell_type": "code",
   "execution_count": 1,
   "metadata": {
    "collapsed": true
   },
   "outputs": [],
   "source": [
    "import pandas as pd\n",
    "import numpy as np\n",
    "import sys, os \n",
    "import csv\n",
    "import glob\n",
    "from datetime import datetime"
   ]
  },
  {
   "cell_type": "code",
   "execution_count": 2,
   "metadata": {
    "collapsed": true
   },
   "outputs": [],
   "source": [
    "#we need a way to get the directory with all the csv files, this is to test \n",
    "#a method for getting all the files\n"
   ]
  },
  {
   "cell_type": "code",
   "execution_count": 3,
   "metadata": {
    "collapsed": true
   },
   "outputs": [],
   "source": [
    "#we'll use glob to access the files, create a path to the csv's\n",
    "path =\"rawdata/*.csv\"\n",
    "csv_list = glob.glob(path)"
   ]
  },
  {
   "cell_type": "code",
   "execution_count": 4,
   "metadata": {},
   "outputs": [
    {
     "data": {
      "text/plain": [
       "32"
      ]
     },
     "execution_count": 4,
     "metadata": {},
     "output_type": "execute_result"
    }
   ],
   "source": [
    "len(csv_list)"
   ]
  },
  {
   "cell_type": "code",
   "execution_count": 5,
   "metadata": {},
   "outputs": [
    {
     "name": "stdout",
     "output_type": "stream",
     "text": [
      "rawdata\\JC-201509-citibike-tripdata.csv\n",
      "rawdata\\JC-201510-citibike-tripdata.csv\n",
      "rawdata\\JC-201511-citibike-tripdata.csv\n",
      "rawdata\\JC-201512-citibike-tripdata.csv\n",
      "rawdata\\JC-201601-citibike-tripdata.csv\n",
      "rawdata\\JC-201602-citibike-tripdata.csv\n",
      "rawdata\\JC-201603-citibike-tripdata.csv\n",
      "rawdata\\JC-201604-citibike-tripdata.csv\n",
      "rawdata\\JC-201605-citibike-tripdata.csv\n",
      "rawdata\\JC-201606-citibike-tripdata.csv\n",
      "rawdata\\JC-201607-citibike-tripdata.csv\n",
      "rawdata\\JC-201608-citibike-tripdata.csv\n",
      "rawdata\\JC-201609-citibike-tripdata.csv\n",
      "rawdata\\JC-201610-citibike-tripdata.csv\n",
      "rawdata\\JC-201611-citibike-tripdata.csv\n",
      "rawdata\\JC-201612-citibike-tripdata.csv\n",
      "rawdata\\JC-201701-citibike-tripdata.csv\n",
      "rawdata\\JC-201702-citibike-tripdata.csv\n",
      "rawdata\\JC-201703-citibike-tripdata.csv\n",
      "rawdata\\JC-201704-citibike-tripdata.csv\n",
      "rawdata\\JC-201705-citibike-tripdata.csv\n",
      "rawdata\\JC-201706-citibike-tripdata.csv\n",
      "rawdata\\JC-201707-citibike-tripdata.csv\n",
      "rawdata\\JC-201708 citibike-tripdata.csv\n",
      "rawdata\\JC-201709-citibike-tripdata.csv\n",
      "rawdata\\JC-201710-citibike-tripdata.csv\n",
      "rawdata\\JC-201711-citibike-tripdata.csv\n",
      "rawdata\\JC-201712-citibike-tripdata.csv\n",
      "rawdata\\JC-201801_citibike_tripdata.csv\n",
      "rawdata\\JC-201802_citibike_tripdata.csv\n",
      "rawdata\\JC-201803_citibike_tripdata.csv\n",
      "rawdata\\JC-201804-citibike-tripdata.csv\n"
     ]
    }
   ],
   "source": [
    "#use some loops to go through each csv file, write each line into a single open csv file\n",
    "#5/22/2018 update -- write to sqlite database. Exceeding the limitations of csv files\n",
    "#   or read into a dataframe directly\n",
    "with open('citi_bike.csv', 'a') as singleFile:\n",
    "    for csvFile in glob.glob(\"rawdata/*.csv\"):\n",
    "        print(csvFile)\n",
    "        #df = pd.read_csv(csvFile)\n",
    "        for line in open(csvFile, 'r'):\n",
    "            singleFile.write(line)"
   ]
  },
  {
   "cell_type": "code",
   "execution_count": 6,
   "metadata": {},
   "outputs": [
    {
     "name": "stderr",
     "output_type": "stream",
     "text": [
      "C:\\ProgramData\\Anaconda3\\lib\\site-packages\\IPython\\core\\interactiveshell.py:2698: DtypeWarning: Columns (0,3,5,6,7,9,10,11,13,14) have mixed types. Specify dtype option on import or set low_memory=False.\n",
      "  interactivity=interactivity, compiler=compiler, result=result)\n"
     ]
    }
   ],
   "source": [
    "#lets just take a quick look at it. \n",
    "df = pd.read_csv('citi_bike.csv')"
   ]
  },
  {
   "cell_type": "code",
   "execution_count": 7,
   "metadata": {},
   "outputs": [
    {
     "data": {
      "text/plain": [
       "Trip Duration              object\n",
       "Start Time                 object\n",
       "Stop Time                  object\n",
       "Start Station ID           object\n",
       "Start Station Name         object\n",
       "Start Station Latitude     object\n",
       "Start Station Longitude    object\n",
       "End Station ID             object\n",
       "End Station Name           object\n",
       "End Station Latitude       object\n",
       "End Station Longitude      object\n",
       "Bike ID                    object\n",
       "User Type                  object\n",
       "Birth Year                 object\n",
       "Gender                     object\n",
       "dtype: object"
      ]
     },
     "execution_count": 7,
     "metadata": {},
     "output_type": "execute_result"
    }
   ],
   "source": [
    "df.dtypes"
   ]
  },
  {
   "cell_type": "code",
   "execution_count": 8,
   "metadata": {},
   "outputs": [
    {
     "data": {
      "text/html": [
       "<div>\n",
       "<style>\n",
       "    .dataframe thead tr:only-child th {\n",
       "        text-align: right;\n",
       "    }\n",
       "\n",
       "    .dataframe thead th {\n",
       "        text-align: left;\n",
       "    }\n",
       "\n",
       "    .dataframe tbody tr th {\n",
       "        vertical-align: top;\n",
       "    }\n",
       "</style>\n",
       "<table border=\"1\" class=\"dataframe\">\n",
       "  <thead>\n",
       "    <tr style=\"text-align: right;\">\n",
       "      <th></th>\n",
       "      <th>Trip Duration</th>\n",
       "      <th>Start Time</th>\n",
       "      <th>Stop Time</th>\n",
       "      <th>Start Station ID</th>\n",
       "      <th>Start Station Name</th>\n",
       "      <th>Start Station Latitude</th>\n",
       "      <th>Start Station Longitude</th>\n",
       "      <th>End Station ID</th>\n",
       "      <th>End Station Name</th>\n",
       "      <th>End Station Latitude</th>\n",
       "      <th>End Station Longitude</th>\n",
       "      <th>Bike ID</th>\n",
       "      <th>User Type</th>\n",
       "      <th>Birth Year</th>\n",
       "      <th>Gender</th>\n",
       "    </tr>\n",
       "  </thead>\n",
       "  <tbody>\n",
       "    <tr>\n",
       "      <th>0</th>\n",
       "      <td>61</td>\n",
       "      <td>2015-09-21 14:53:16</td>\n",
       "      <td>2015-09-21 14:54:17</td>\n",
       "      <td>3185</td>\n",
       "      <td>City Hall</td>\n",
       "      <td>40.7177325</td>\n",
       "      <td>-74.043845</td>\n",
       "      <td>3185</td>\n",
       "      <td>City Hall</td>\n",
       "      <td>40.7177325</td>\n",
       "      <td>-74.043845</td>\n",
       "      <td>24722</td>\n",
       "      <td>Subscriber</td>\n",
       "      <td>1975</td>\n",
       "      <td>1</td>\n",
       "    </tr>\n",
       "    <tr>\n",
       "      <th>1</th>\n",
       "      <td>290</td>\n",
       "      <td>2015-09-21 14:55:59</td>\n",
       "      <td>2015-09-21 15:00:50</td>\n",
       "      <td>3183</td>\n",
       "      <td>Exchange Place</td>\n",
       "      <td>40.7162469</td>\n",
       "      <td>-74.0334588</td>\n",
       "      <td>3187</td>\n",
       "      <td>Warren St</td>\n",
       "      <td>40.7211236</td>\n",
       "      <td>-74.03805095</td>\n",
       "      <td>24388</td>\n",
       "      <td>Customer</td>\n",
       "      <td>NaN</td>\n",
       "      <td>0</td>\n",
       "    </tr>\n",
       "    <tr>\n",
       "      <th>2</th>\n",
       "      <td>786</td>\n",
       "      <td>2015-09-21 14:56:14</td>\n",
       "      <td>2015-09-21 15:09:21</td>\n",
       "      <td>3183</td>\n",
       "      <td>Exchange Place</td>\n",
       "      <td>40.7162469</td>\n",
       "      <td>-74.0334588</td>\n",
       "      <td>3183</td>\n",
       "      <td>Exchange Place</td>\n",
       "      <td>40.7162469</td>\n",
       "      <td>-74.0334588</td>\n",
       "      <td>24442</td>\n",
       "      <td>Subscriber</td>\n",
       "      <td>1962</td>\n",
       "      <td>1</td>\n",
       "    </tr>\n",
       "  </tbody>\n",
       "</table>\n",
       "</div>"
      ],
      "text/plain": [
       "  Trip Duration           Start Time            Stop Time Start Station ID  \\\n",
       "0            61  2015-09-21 14:53:16  2015-09-21 14:54:17             3185   \n",
       "1           290  2015-09-21 14:55:59  2015-09-21 15:00:50             3183   \n",
       "2           786  2015-09-21 14:56:14  2015-09-21 15:09:21             3183   \n",
       "\n",
       "  Start Station Name Start Station Latitude Start Station Longitude  \\\n",
       "0          City Hall             40.7177325              -74.043845   \n",
       "1     Exchange Place             40.7162469             -74.0334588   \n",
       "2     Exchange Place             40.7162469             -74.0334588   \n",
       "\n",
       "  End Station ID End Station Name End Station Latitude End Station Longitude  \\\n",
       "0           3185        City Hall           40.7177325            -74.043845   \n",
       "1           3187        Warren St           40.7211236          -74.03805095   \n",
       "2           3183   Exchange Place           40.7162469           -74.0334588   \n",
       "\n",
       "  Bike ID   User Type Birth Year Gender  \n",
       "0   24722  Subscriber       1975      1  \n",
       "1   24388    Customer        NaN      0  \n",
       "2   24442  Subscriber       1962      1  "
      ]
     },
     "execution_count": 8,
     "metadata": {},
     "output_type": "execute_result"
    }
   ],
   "source": [
    "df.head(3)"
   ]
  },
  {
   "cell_type": "code",
   "execution_count": 9,
   "metadata": {},
   "outputs": [
    {
     "data": {
      "text/plain": [
       "Trip Duration              object\n",
       "Start Time                 object\n",
       "Stop Time                  object\n",
       "Start Station ID           object\n",
       "Start Station Name         object\n",
       "Start Station Latitude     object\n",
       "Start Station Longitude    object\n",
       "End Station ID             object\n",
       "End Station Name           object\n",
       "End Station Latitude       object\n",
       "End Station Longitude      object\n",
       "Bike ID                    object\n",
       "User Type                  object\n",
       "Birth Year                 object\n",
       "Gender                     object\n",
       "dtype: object"
      ]
     },
     "execution_count": 9,
     "metadata": {},
     "output_type": "execute_result"
    }
   ],
   "source": [
    "df.dtypes"
   ]
  },
  {
   "cell_type": "code",
   "execution_count": 10,
   "metadata": {
    "collapsed": true
   },
   "outputs": [],
   "source": [
    "#no Nan"
   ]
  }
 ],
 "metadata": {
  "kernelspec": {
   "display_name": "Python 3",
   "language": "python",
   "name": "python3"
  },
  "language_info": {
   "codemirror_mode": {
    "name": "ipython",
    "version": 3
   },
   "file_extension": ".py",
   "mimetype": "text/x-python",
   "name": "python",
   "nbconvert_exporter": "python",
   "pygments_lexer": "ipython3",
   "version": "3.6.3"
  }
 },
 "nbformat": 4,
 "nbformat_minor": 2
}
