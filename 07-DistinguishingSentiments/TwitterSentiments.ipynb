{
 "cells": [
  {
   "cell_type": "markdown",
   "metadata": {},
   "source": [
    "# Distinguishing Sentiments\n",
    "\n",
    "## News Mood\n",
    "\n",
    "We will perform a sentiment analysis of five news sources through their twitter feeds. The overall sentiment (positive - neutral - negative) of the last 100 tweets will be visualized on a bar chart. A Scatter plot will be used to demonstrate the comprehensive data points of the last 100 tweets.\n",
    "\n",
    "    1. Collecting tweet data during the evening news hour (approximately 5:30 pm CDT) seems to yield a more positive sentiment analysis.\n",
    "    2. CBS as the only major network represented with a evening news broadcast seems to be the recipient of the positive sentiment with a counpund score of .37.\n",
    "    3. CNN has a neutral score. The scatter plot shows a fairly even distribution of sentiment. This could be an example of neutral reporting."
   ]
  },
  {
   "cell_type": "code",
   "execution_count": 1,
   "metadata": {
    "collapsed": true
   },
   "outputs": [],
   "source": [
    "import numpy as np\n",
    "import pandas as pd\n",
    "import tweepy\n",
    "import matplotlib.pyplot as plt\n",
    "import json\n",
    "import seaborn as sns\n",
    "\n",
    "import time\n",
    "from vaderSentiment.vaderSentiment import SentimentIntensityAnalyzer\n",
    "analyzer = SentimentIntensityAnalyzer()"
   ]
  },
  {
   "cell_type": "code",
   "execution_count": 2,
   "metadata": {
    "collapsed": true
   },
   "outputs": [],
   "source": [
    "file_name = \"C:\\KUBootCamp\\\\api_keys.json\"\n",
    "data = json.load(open(file_name))\n",
    "consumer_key = data['twitter_consumer_key']\n",
    "consumer_secret = data['twitter_consumer_secret']\n",
    "access_token = data['twitter_access_token']\n",
    "access_token_secret = data['twitter_access_token_secret']\n",
    "gkey = data['openweathermap_api_key']\n"
   ]
  },
  {
   "cell_type": "code",
   "execution_count": 3,
   "metadata": {
    "collapsed": true
   },
   "outputs": [],
   "source": [
    "#Set up tweepy authentication\n",
    "auth = tweepy.OAuthHandler(consumer_key, consumer_secret)\n",
    "auth.set_access_token(access_token, access_token_secret)\n",
    "api = tweepy.API(auth, parser=tweepy.parsers.JSONParser())"
   ]
  },
  {
   "cell_type": "code",
   "execution_count": 4,
   "metadata": {
    "collapsed": true
   },
   "outputs": [],
   "source": [
    "# Target Search Term\n",
    "target_terms = ( \"@BBC\", \"@CBS\", \"@CNN\", \"@FoxNews\", \"@NYTimes\" )\n",
    "# \"Real Person\" Filters\n",
    "min_tweets = 5\n",
    "max_tweets = 10000\n",
    "max_followers = 2500\n",
    "max_following = 2500\n",
    "lang = \"en\"\n",
    "\n",
    "sentiment_array = []\n",
    "oldest_tweet = \"\"\n",
    "# Create a dictionary to hold info pulled from API \n",
    "tweet_info = {\"tweet source\" : [],\n",
    "              \"tweet text\" : [],\n",
    "              \"tweet date\" : [],\n",
    "              \"media source\" : [],\n",
    "              \"compound score\" : [],\n",
    "              \"tweet positive score\" : [],\n",
    "              \"tweet negative score\" : [],\n",
    "              \"tweet neutral score\" : []\n",
    "             }"
   ]
  },
  {
   "cell_type": "markdown",
   "metadata": {
    "collapsed": true
   },
   "source": []
  },
  {
   "cell_type": "code",
   "execution_count": null,
   "metadata": {
    "collapsed": true
   },
   "outputs": [],
   "source": []
  },
  {
   "cell_type": "code",
   "execution_count": null,
   "metadata": {
    "collapsed": true
   },
   "outputs": [],
   "source": []
  },
  {
   "cell_type": "code",
   "execution_count": 5,
   "metadata": {
    "collapsed": true,
    "scrolled": true
   },
   "outputs": [],
   "source": [
    "for x in range(5):\n",
    "    for target in target_terms:\n",
    "        # Variables for holding sentiments\n",
    "        #text = ''\n",
    "        #for x in range(1):\n",
    "        #time.sleep(1)\n",
    "        #i = 1\n",
    "        public_tweets = api.user_timeline(target, page = x)\n",
    "        #print(target)\n",
    "        for tweet in public_tweets:\n",
    "            #print(json.dumps(tweet, sort_keys=True, indent=4, separators=(',',': ')))\n",
    "            #text = ' '\n",
    "            #text = tweet['target']\n",
    "            #print(tweet)\n",
    "            tweet_info[\"tweet source\"].append(tweet[\"source\"])\n",
    "            tweet_info[\"tweet text\"].append(tweet[\"text\"])\n",
    "            tweet_info[\"tweet date\"].append(tweet[\"created_at\"])\n",
    "            tweet_info[\"media source\"].append(target)\n",
    "\n",
    "            tweet_info[\"compound score\"].append(analyzer.polarity_scores(tweet[\"text\"])[\"compound\"])\n",
    "            tweet_info[\"tweet positive score\"].append(analyzer.polarity_scores(tweet[\"text\"])[\"pos\"])\n",
    "            tweet_info[\"tweet neutral score\"].append(analyzer.polarity_scores(tweet[\"text\"])[\"neu\"])\n",
    "            tweet_info[\"tweet negative score\"].append(analyzer.polarity_scores(tweet[\"text\"])[\"neg\"])\n",
    "            #oldest_tweet = tweet[\"id_str\"]\n",
    "            \n",
    "    # Store the Average Sentiments\n",
    "    #sentiment = {\"User\": target,\n",
    "                 #\"Compound\": np.mean(compound_list),\n",
    "                 #\"Positive\": np.mean(positive_list),\n",
    "                 #\"Neutral\": np.mean(negative_list),\n",
    "                 #\"Negative\": np.mean(neutral_list),\n",
    "                 #\"Tweet Count\": len(compound_list)}\n",
    "    #airplane_text_list.append(text)\n",
    "    # Print the Sentiments\n",
    "    #print(sentiment)\n",
    "    #print(\"\")\n"
   ]
  },
  {
   "cell_type": "code",
   "execution_count": 6,
   "metadata": {},
   "outputs": [
    {
     "data": {
      "text/html": [
       "<div>\n",
       "<style>\n",
       "    .dataframe thead tr:only-child th {\n",
       "        text-align: right;\n",
       "    }\n",
       "\n",
       "    .dataframe thead th {\n",
       "        text-align: left;\n",
       "    }\n",
       "\n",
       "    .dataframe tbody tr th {\n",
       "        vertical-align: top;\n",
       "    }\n",
       "</style>\n",
       "<table border=\"1\" class=\"dataframe\">\n",
       "  <thead>\n",
       "    <tr style=\"text-align: right;\">\n",
       "      <th></th>\n",
       "      <th>compound score</th>\n",
       "      <th>media source</th>\n",
       "      <th>tweet date</th>\n",
       "      <th>tweet negative score</th>\n",
       "      <th>tweet neutral score</th>\n",
       "      <th>tweet positive score</th>\n",
       "      <th>tweet source</th>\n",
       "      <th>tweet text</th>\n",
       "    </tr>\n",
       "  </thead>\n",
       "  <tbody>\n",
       "    <tr>\n",
       "      <th>0</th>\n",
       "      <td>-0.4927</td>\n",
       "      <td>@BBC</td>\n",
       "      <td>Tue Apr 10 18:42:00 +0000 2018</td>\n",
       "      <td>0.158</td>\n",
       "      <td>0.842</td>\n",
       "      <td>0.0</td>\n",
       "      <td>&lt;a href=\"https://studio.twitter.com\" rel=\"nofo...</td>\n",
       "      <td>It wasn't until Henry VIII's reign that the #T...</td>\n",
       "    </tr>\n",
       "    <tr>\n",
       "      <th>1</th>\n",
       "      <td>-0.5106</td>\n",
       "      <td>@BBC</td>\n",
       "      <td>Tue Apr 10 18:00:27 +0000 2018</td>\n",
       "      <td>0.216</td>\n",
       "      <td>0.784</td>\n",
       "      <td>0.0</td>\n",
       "      <td>&lt;a href=\"http://www.socialflow.com\" rel=\"nofol...</td>\n",
       "      <td>Meet Rebekah - a former professional footballe...</td>\n",
       "    </tr>\n",
       "    <tr>\n",
       "      <th>2</th>\n",
       "      <td>0.0000</td>\n",
       "      <td>@BBC</td>\n",
       "      <td>Tue Apr 10 16:58:05 +0000 2018</td>\n",
       "      <td>0.000</td>\n",
       "      <td>1.000</td>\n",
       "      <td>0.0</td>\n",
       "      <td>&lt;a href=\"http://www.socialflow.com\" rel=\"nofol...</td>\n",
       "      <td>🌶🤯 A man who ate the world's hottest chilli pe...</td>\n",
       "    </tr>\n",
       "    <tr>\n",
       "      <th>3</th>\n",
       "      <td>0.0000</td>\n",
       "      <td>@BBC</td>\n",
       "      <td>Tue Apr 10 16:34:54 +0000 2018</td>\n",
       "      <td>0.000</td>\n",
       "      <td>1.000</td>\n",
       "      <td>0.0</td>\n",
       "      <td>&lt;a href=\"http://twitter.com\" rel=\"nofollow\"&gt;Tw...</td>\n",
       "      <td>RT @bbccomedy: Henry of Eight, the Tudor Kim K...</td>\n",
       "    </tr>\n",
       "    <tr>\n",
       "      <th>4</th>\n",
       "      <td>0.0000</td>\n",
       "      <td>@BBC</td>\n",
       "      <td>Tue Apr 10 16:32:08 +0000 2018</td>\n",
       "      <td>0.000</td>\n",
       "      <td>1.000</td>\n",
       "      <td>0.0</td>\n",
       "      <td>&lt;a href=\"http://www.socialflow.com\" rel=\"nofol...</td>\n",
       "      <td>👭 Ten celebrity pairs who look so freakily ali...</td>\n",
       "    </tr>\n",
       "  </tbody>\n",
       "</table>\n",
       "</div>"
      ],
      "text/plain": [
       "   compound score media source                      tweet date  \\\n",
       "0         -0.4927         @BBC  Tue Apr 10 18:42:00 +0000 2018   \n",
       "1         -0.5106         @BBC  Tue Apr 10 18:00:27 +0000 2018   \n",
       "2          0.0000         @BBC  Tue Apr 10 16:58:05 +0000 2018   \n",
       "3          0.0000         @BBC  Tue Apr 10 16:34:54 +0000 2018   \n",
       "4          0.0000         @BBC  Tue Apr 10 16:32:08 +0000 2018   \n",
       "\n",
       "   tweet negative score  tweet neutral score  tweet positive score  \\\n",
       "0                 0.158                0.842                   0.0   \n",
       "1                 0.216                0.784                   0.0   \n",
       "2                 0.000                1.000                   0.0   \n",
       "3                 0.000                1.000                   0.0   \n",
       "4                 0.000                1.000                   0.0   \n",
       "\n",
       "                                        tweet source  \\\n",
       "0  <a href=\"https://studio.twitter.com\" rel=\"nofo...   \n",
       "1  <a href=\"http://www.socialflow.com\" rel=\"nofol...   \n",
       "2  <a href=\"http://www.socialflow.com\" rel=\"nofol...   \n",
       "3  <a href=\"http://twitter.com\" rel=\"nofollow\">Tw...   \n",
       "4  <a href=\"http://www.socialflow.com\" rel=\"nofol...   \n",
       "\n",
       "                                          tweet text  \n",
       "0  It wasn't until Henry VIII's reign that the #T...  \n",
       "1  Meet Rebekah - a former professional footballe...  \n",
       "2  🌶🤯 A man who ate the world's hottest chilli pe...  \n",
       "3  RT @bbccomedy: Henry of Eight, the Tudor Kim K...  \n",
       "4  👭 Ten celebrity pairs who look so freakily ali...  "
      ]
     },
     "execution_count": 6,
     "metadata": {},
     "output_type": "execute_result"
    }
   ],
   "source": [
    "# Convert dictionary to a DataFrame\n",
    "df = pd.DataFrame.from_dict(tweet_info)\n",
    "df.head()"
   ]
  },
  {
   "cell_type": "code",
   "execution_count": 7,
   "metadata": {},
   "outputs": [
    {
     "name": "stdout",
     "output_type": "stream",
     "text": [
      "2018-04-10 18:42:00+00:00\n",
      "500\n"
     ]
    }
   ],
   "source": [
    "# Create a scatter plot based on vader's compound score for all tweets\n",
    "from dateutil import parser\n",
    "most_recent_tweet = parser.parse(df[\"tweet date\"][0])\n",
    "print(most_recent_tweet)\n",
    "print(len(df))"
   ]
  },
  {
   "cell_type": "code",
   "execution_count": 8,
   "metadata": {
    "collapsed": true
   },
   "outputs": [],
   "source": [
    "nytc = 0\n",
    "bbcc = 0\n",
    "cbsc = 0\n",
    "cnnc = 0\n",
    "fnc = 0\n",
    "N = 1.0, 0.5, 0.0, -0.5, -1.0"
   ]
  },
  {
   "cell_type": "code",
   "execution_count": 9,
   "metadata": {
    "collapsed": true
   },
   "outputs": [],
   "source": [
    "for index, row in df.iterrows():\n",
    "    #print(row[\"media source\"])\n",
    "    if (row[\"media source\"] == \"@BBC\"):\n",
    "        bbcc = bbcc + 1\n",
    "        bbc = plt.scatter(bbcc, row[\"compound score\"], c=\"black\", marker=\"o\", alpha=.8, edgecolor=\"k\", linewidths=1)\n",
    "    if (row[\"media source\"] == \"@CBS\"):\n",
    "        cbs = plt.scatter(cbsc, row[\"compound score\"], c=\"green\", marker=\"o\", alpha=.8, edgecolor=\"k\", linewidths=1)\n",
    "        cbsc = cbsc + 1\n",
    "    if (row[\"media source\"] == \"@CNN\"):\n",
    "        cnnc = cnnc + 1\n",
    "        cnn = plt.scatter(cnnc, row[\"compound score\"], c=\"yellow\", marker=\"o\", alpha=.8, edgecolor=\"k\", linewidths=1)\n",
    "    if (row[\"media source\"] == \"@FoxNews\"):\n",
    "        fnc = fnc + 1\n",
    "        fox = plt.scatter(fnc, row[\"compound score\"], c=\"red\", marker=\"o\", alpha=.8, edgecolor=\"k\", linewidths=1)\n",
    "    if (row[\"media source\"] == \"@NYTimes\"):\n",
    "        nytc = nytc + 1\n",
    "        nyt = plt.scatter(nytc, row[\"compound score\"], c=\"purple\", marker=\"o\", alpha=.8, edgecolor=\"k\", linewidths=1)"
   ]
  },
  {
   "cell_type": "code",
   "execution_count": 10,
   "metadata": {},
   "outputs": [
    {
     "name": "stdout",
     "output_type": "stream",
     "text": [
      "100 100 100 100 100\n"
     ]
    }
   ],
   "source": [
    "print(nytc, bbcc, cbsc, cnnc, fnc)\n"
   ]
  },
  {
   "cell_type": "code",
   "execution_count": 11,
   "metadata": {},
   "outputs": [
    {
     "data": {
      "image/png": "[encoded data removed]",
      "text/plain": [
       "<matplotlib.figure.Figure at 0x132a0ab17b8>"
      ]
     },
     "metadata": {},
     "output_type": "display_data"
    }
   ],
   "source": [
    "sns.set()\n",
    "plt.title(f\"Sentiment Analysis of Media Tweets ({most_recent_tweet:%B %d, %Y})\")\n",
    "plt.ylabel(\"Tweet Polarity\")\n",
    "plt.xlabel(\"Tweets Ago\")\n",
    "plt.yticks(N, ('1.0', '0.5', '0.0', '-0.5', '-1.0'))\n",
    "plt.gca().invert_xaxis()\n",
    "plt.legend(handles = [nyt, bbc, cbs, cnn, fox],\n",
    "           labels = [\"New York Times\", \"BBC\", \"CBS\", \"CNN\", \"Fox\"],\n",
    "           bbox_to_anchor = (1,.75))\n",
    "\n",
    "plt.savefig('Sentiment_Analysis_of_Media_Tweets.png', bbox_inches = 'tight')\n",
    "plt.show()\n"
   ]
  },
  {
   "cell_type": "code",
   "execution_count": 12,
   "metadata": {
    "collapsed": true
   },
   "outputs": [],
   "source": [
    "#\n",
    "# Create a DataFrame containing the average compound score of each media sources's tweeets\n",
    "df2 = pd.DataFrame(df.groupby(\"media source\").mean()['compound score'])\n",
    "#df2.head()"
   ]
  },
  {
   "cell_type": "code",
   "execution_count": 13,
   "metadata": {
    "collapsed": true
   },
   "outputs": [],
   "source": [
    "#df.head()"
   ]
  },
  {
   "cell_type": "code",
   "execution_count": 14,
   "metadata": {},
   "outputs": [
    {
     "data": {
      "image/png": "[encoded data removed]",
      "text/plain": [
       "<matplotlib.figure.Figure at 0x132a166cba8>"
      ]
     },
     "metadata": {},
     "output_type": "display_data"
    }
   ],
   "source": [
    "# Create a bar plot to display the information from df2\n",
    "sns.set(style=\"darkgrid\")\n",
    "fig, ax = plt.subplots()\n",
    "\n",
    "sns.set_color_codes(\"muted\")\n",
    "sns.barplot(x=df2.index, y=df2[\"compound score\"], data=df2, ci=None, saturation=.8)\n",
    "\n",
    "plt.ylim(-.15, .50)\n",
    "\n",
    "ax.set_title(f\"Overall Media Sentiment Based on Twitter ({most_recent_tweet:%B %d, %Y})\")\n",
    "\n",
    "for p in ax.patches: \n",
    "    ax.annotate(np.round(p.get_height(),decimals=2), (p.get_x()+p.get_width()/2., p.get_height()),\n",
    "                ha='center', va='center', xytext=(0,10), textcoords=\"offset points\")\n",
    "\n",
    "plt.ylabel('Tweet Polarity')\n",
    "plt.xlabel('Media Source')\n",
    "ax.set_xticklabels((\"BBC\", \"CBS\", \"CNN\", \"Fox\", \"NYT\"))\n",
    "plt.savefig(\"Twitter_Media_Sentiment.png\")\n",
    "plt.show()\n"
   ]
  },
  {
   "cell_type": "code",
   "execution_count": 15,
   "metadata": {
    "collapsed": true
   },
   "outputs": [],
   "source": [
    "# Show cool alice word map"
   ]
  },
  {
   "cell_type": "code",
   "execution_count": 16,
   "metadata": {
    "collapsed": true
   },
   "outputs": [],
   "source": [
    "df.to_csv(\"Distingushing_Sentiments.csv\", encoding='utf-8', index=False)"
   ]
  },
  {
   "cell_type": "code",
   "execution_count": null,
   "metadata": {
    "collapsed": true
   },
   "outputs": [],
   "source": []
  }
 ],
 "metadata": {
  "kernelspec": {
   "display_name": "Python 3",
   "language": "python",
   "name": "python3"
  },
  "language_info": {
   "codemirror_mode": {
    "name": "ipython",
    "version": 3
   },
   "file_extension": ".py",
   "mimetype": "text/x-python",
   "name": "python",
   "nbconvert_exporter": "python",
   "pygments_lexer": "ipython3",
   "version": "3.6.3"
  }
 },
 "nbformat": 4,
 "nbformat_minor": 2
}
