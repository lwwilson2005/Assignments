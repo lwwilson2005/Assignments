{
 "cells": [
  {
   "cell_type": "code",
   "execution_count": 1,
   "metadata": {
    "collapsed": true
   },
   "outputs": [],
   "source": [
    "#Project 2\n",
    "\n",
    "##May 1, 2018\n",
    "##Mark Kaufmann, Komron Rustamov, Louis Wilson\n",
    "\n"
   ]
  },
  {
   "cell_type": "code",
   "execution_count": 2,
   "metadata": {
    "collapsed": true
   },
   "outputs": [],
   "source": [
    "#Data Engineering\n",
    "\n",
    "## 22 Datasets located and downloaded as csv and excel files\n",
    "## 7 Datasets loaded into the database\n",
    "## Used pandas to load the csv files into dataframes\n",
    "## Each dataframe was reviewed for shape and NaNs\n",
    "## Team determined the initial data cleaning required\n",
    "## The main dataset for the presentation was determined (Accidental Drug Related Deaths)\n",
    "## Additional cleaning was required to break location data out into mappable coordinates\n",
    "## Output from this exercise was store in the clean_csv folder"
   ]
  },
  {
   "cell_type": "code",
   "execution_count": 3,
   "metadata": {
    "collapsed": true
   },
   "outputs": [],
   "source": [
    "#Database Engineering\n",
    "\n",
    "## Libraries used we PyMySQL, MSSQL, Microsoft Access, SQL Alchemy, Inspector, Pandas\n",
    "## Loaded each cleaned csv file into a dataframe\n",
    "## Used df.to_sql command to create MySQL tables\n",
    "## Read each MySQL table to validate database table creation\n",
    "## (same process used for SQL Server)\n",
    "## Used Flask and pymysql to create local json data for presentation to visualization team"
   ]
  },
  {
   "cell_type": "code",
   "execution_count": null,
   "metadata": {
    "collapsed": true
   },
   "outputs": [],
   "source": [
    "# REST API\n",
    "\n",
    "## Used two different delivery methods\n",
    "## Presentation was based on Javascript REST and SQL Server over the internet\n",
    "## NodeJS, Express framework, and mssql driver were used for the connectivity\n",
    "## Secondary REST server based on Flask and MySQL\n",
    "## SQL Alchemy was also used.\n",
    "## Json data was delivered\n",
    "## Request for data was made via URL's with the requested table name\n",
    "\n"
   ]
  }
 ],
 "metadata": {
  "kernelspec": {
   "display_name": "Python 3",
   "language": "python",
   "name": "python3"
  },
  "language_info": {
   "codemirror_mode": {
    "name": "ipython",
    "version": 3
   },
   "file_extension": ".py",
   "mimetype": "text/x-python",
   "name": "python",
   "nbconvert_exporter": "python",
   "pygments_lexer": "ipython3",
   "version": "3.6.3"
  }
 },
 "nbformat": 4,
 "nbformat_minor": 2
}
